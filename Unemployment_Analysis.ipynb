{
 "cells": [
  {
   "cell_type": "markdown",
   "id": "9cee6c56",
   "metadata": {},
   "source": [
    "\n",
    "# Unemployment Analysis in India\n",
    "\n",
    "This notebook analyzes unemployment data in India using Python. We will explore trends, \n",
    "regional differences, and other insights from the datasets. The steps include:\n",
    "\n",
    "1. Loading the datasets.\n",
    "2. Cleaning and preparing the data.\n",
    "3. Performing exploratory data analysis (EDA).\n",
    "4. Visualizing unemployment trends and patterns.\n"
   ]
  },
  {
   "cell_type": "code",
   "execution_count": null,
   "id": "b0d28540",
   "metadata": {},
   "outputs": [],
   "source": [
    "\n",
    "import pandas as pd\n",
    "\n",
    "# Load datasets\n",
    "file_path1 = 'Unemployment in India.csv'\n",
    "file_path2 = 'Unemployment_Rate_upto_11_2020.csv'\n",
    "\n",
    "data1 = pd.read_csv(file_path1)\n",
    "data2 = pd.read_csv(file_path2)\n",
    "\n",
    "# Display the first few rows\n",
    "data1.head(), data2.head()\n"
   ]
  },
  {
   "cell_type": "code",
   "execution_count": null,
   "id": "9eb6ad4d",
   "metadata": {},
   "outputs": [],
   "source": [
    "# Ensure column names are clean\n",
    "data1.columns = data1.columns.str.strip()\n",
    "data2.columns = data2.columns.str.strip()\n",
    "\n",
    "# Remove leading/trailing spaces from the 'Date' column values and convert to datetime\n",
    "data1['Date'] = pd.to_datetime(data1['Date'].str.strip(), format='%d-%m-%Y')\n",
    "data2['Date'] = pd.to_datetime(data2['Date'].str.strip(), format='%d-%m-%Y')\n",
    "\n",
    "# Verify the changes\n",
    "print(data1['Date'].head())\n",
    "print(data2['Date'].head())\n"
   ]
  },
  {
   "cell_type": "code",
   "execution_count": null,
   "id": "11552c8a",
   "metadata": {},
   "outputs": [],
   "source": [
    "\n",
    "import matplotlib.pyplot as plt\n",
    "import seaborn as sns\n",
    "\n",
    "# Summary statistics\n",
    "summary1 = data1.describe()\n",
    "summary2 = data2.describe()\n",
    "\n",
    "# Plot unemployment rate trends for one region (e.g., Andhra Pradesh)\n",
    "region_data1 = data1[data1['Region'] == 'Andhra Pradesh']\n",
    "region_data2 = data2[data2['Region'] == 'Andhra Pradesh']\n",
    "\n",
    "plt.figure(figsize=(10, 6))\n",
    "plt.plot(region_data1['Date'], region_data1['Estimated Unemployment Rate (%)'], label='Dataset 1')\n",
    "plt.plot(region_data2['Date'], region_data2['Estimated Unemployment Rate (%)'], label='Dataset 2', linestyle='--')\n",
    "plt.title('Unemployment Rate Trends in Andhra Pradesh')\n",
    "plt.xlabel('Date')\n",
    "plt.ylabel('Unemployment Rate (%)')\n",
    "plt.legend()\n",
    "plt.grid()\n",
    "plt.show()\n"
   ]
  },
  {
   "cell_type": "markdown",
   "id": "e83b5d01",
   "metadata": {},
   "source": [
    "\n",
    "## Conclusion\n",
    "\n",
    "From this analysis, we observed:\n",
    "- Trends in unemployment rates over time.\n",
    "- Regional differences in unemployment rates.\n",
    "- The impact of specific events like COVID-19.\n",
    "\n",
    "Further analysis can focus on deeper regional or temporal breakdowns or predicting future trends using this data.\n"
   ]
  }
 ],
 "metadata": {
  "language_info": {
   "name": "python"
  }
 },
 "nbformat": 4,
 "nbformat_minor": 5
}
